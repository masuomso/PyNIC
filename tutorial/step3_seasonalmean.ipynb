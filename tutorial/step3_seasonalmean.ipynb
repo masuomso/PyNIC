{
 "cells": [
  {
   "cell_type": "markdown",
   "metadata": {},
   "source": [
    "## 季節平均などの計算\n",
    "xarrayにはgroupbyという機能があり、これを使うことで季節平均などを簡単に計算することができます。"
   ]
  },
  {
   "cell_type": "code",
   "execution_count": null,
   "metadata": {},
   "outputs": [],
   "source": [
    "%matplotlib inline\n",
    "#import numpy as np\n",
    "#import pandas as pd\n",
    "#import matplotlib.pyplot as plt\n",
    "import xarray as xr\n",
    "#import datetime\n",
    "#from pandas.plotting import register_matplotlib_converters\n",
    "#register_matplotlib_converters()\n",
    "\n",
    "da_olr = xr.open_dataset(\"data/olr.day.mean.nc\").olr\n",
    "da_olr_sub = da_olr.sel(time=slice('1979-01-01', '2008-12-31'))\n",
    "da_olr_seasonal_mean = da_olr_sub.groupby(\"time.season\").mean()\n",
    "da_olr_seasonal_mean.sel(season='DJF').plot()"
   ]
  },
  {
   "cell_type": "code",
   "execution_count": null,
   "metadata": {},
   "outputs": [],
   "source": []
  }
 ],
 "metadata": {
  "kernelspec": {
   "display_name": "Python 3",
   "language": "python",
   "name": "python3"
  },
  "language_info": {
   "codemirror_mode": {
    "name": "ipython",
    "version": 3
   },
   "file_extension": ".py",
   "mimetype": "text/x-python",
   "name": "python",
   "nbconvert_exporter": "python",
   "pygments_lexer": "ipython3",
   "version": "3.7.4"
  }
 },
 "nbformat": 4,
 "nbformat_minor": 4
}
